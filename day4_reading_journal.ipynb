{
 "cells": [
  {
   "cell_type": "markdown",
   "metadata": {},
   "source": [
    "# Day 4 Reading Journal\n",
    "\n",
    "This journal includes several required exercises, but it is meant to encourage active reading more generally.  You should use the journal to take detailed notes, catalog questions, and explore the content from Think Python deeply.\n",
    "\n",
    "Reading: Think Python Chapter 10\n",
    "\n",
    "**Due: Thursday, February 4 at 12 noon**\n",
    "\n"
   ]
  },
  {
   "cell_type": "markdown",
   "metadata": {},
   "source": [
    "## [Chapter 10](http://www.greenteapress.com/thinkpython/html/thinkpython011.html)\n",
    "\n",
    "You may want to review [state diagrams in Chapter 2](http://www.greenteapress.com/thinkpython/html/thinkpython003.html#toc13). [Python Tutor](http://pythontutor.com/) is also helpful for visualizing the state of your program.\n",
    "\n"
   ]
  },
  {
   "cell_type": "markdown",
   "metadata": {},
   "source": [
    "### Exercise 4  \n",
    "Write a function called `middle` that takes a list and returns a new list that contains all but the first and last elements. So `middle([1,2,3,4])` should return `[2,3]`."
   ]
  },
  {
   "cell_type": "code",
   "execution_count": 2,
   "metadata": {
    "collapsed": false
   },
   "outputs": [
    {
     "name": "stdout",
     "output_type": "stream",
     "text": [
      "[2, 3]\n",
      "[2, 3]\n"
     ]
    }
   ],
   "source": [
    "def middle(allthegoodvariablenamesaretaken):\n",
    "    \"\"\"\n",
    "    >>> middle([1,2,3,4])\n",
    "    [2, 3]\n",
    "    \"\"\"\n",
    "    return allthegoodvariablenamesaretaken[1:len(allthegoodvariablenamesaretaken)-1]\n",
    "\n",
    "\n",
    "import doctest\n",
    "doctest.run_docstring_examples(middle,globals())"
   ]
  },
  {
   "cell_type": "markdown",
   "metadata": {},
   "source": [
    "### Exercise 5  \n",
    "Write a function called `chop` that takes a list, modifies it by removing the first and last elements, and returns `None`.\n",
    "\n",
    "What is the difference between `middle` and `chop`? Sketch out the program state or take a look at each in Python Tutor."
   ]
  },
  {
   "cell_type": "code",
   "execution_count": 5,
   "metadata": {
    "collapsed": false
   },
   "outputs": [
    {
     "name": "stdout",
     "output_type": "stream",
     "text": [
      "[1, 2, 3, 4, 5, 6]\n",
      "[2, 3, 4, 5]\n",
      "[3, 4]\n"
     ]
    }
   ],
   "source": [
    "def chop(letsusesomethingshorter):\n",
    "    letsusesomethingshorter.remove(letsusesomethingshorter[0])\n",
    "    letsusesomethingshorter.remove(letsusesomethingshorter[len(letsusesomethingshorter)-1])\n",
    "    \n",
    "\n",
    "l = [1,2,3,4,5,6]\n",
    "print l\n",
    "chop(l)\n",
    "print l\n",
    "chop(l)\n",
    "print l"
   ]
  },
  {
   "cell_type": "markdown",
   "metadata": {},
   "source": [
    "### Exercise 7  \n",
    "Two words are anagrams if you can rearrange the letters from one to spell the other. Write a function called `is_anagram` that takes two strings and returns `True` if they are anagrams."
   ]
  },
  {
   "cell_type": "code",
   "execution_count": 23,
   "metadata": {
    "collapsed": false
   },
   "outputs": [],
   "source": [
    "def is_anagram(input1, input2):\n",
    "    \"\"\"\n",
    "    >>> is_anagram(\"DoctorWho\", \"Torchwood\")\n",
    "    True\n",
    "    >>> is_anagram(\"Something\", \"Not even close\")\n",
    "    False\n",
    "    >>> is_anagram(\"Loose\", \"Losse\")\n",
    "    False\n",
    "    \"\"\"\n",
    "    if len(input1) != len(input2):\n",
    "        return False\n",
    "    \n",
    "    str1 = input1.lower()\n",
    "    str2 = input2.lower()\n",
    "    i = len(str1)-1\n",
    "    while (i >= 0): # cycles backward through characters in str1\n",
    "        i2 = str2.find(str1[i])\n",
    "        if i2 >= 0: # if there is a matching character in str2\n",
    "            str1 = str1[:len(str1)-1] # remove the character from both (to avoid using the same character again)\n",
    "            str2 = str2[:i2] + str2[i2+1:]\n",
    "        else: # if it does not match\n",
    "            return False\n",
    "        i -= 1\n",
    "    return True\n",
    "\n",
    "\n",
    "import doctest\n",
    "doctest.run_docstring_examples(is_anagram,globals())"
   ]
  },
  {
   "cell_type": "markdown",
   "metadata": {},
   "source": [
    "### Exercise 8  \n",
    "The (so-called) Birthday Paradox:\n",
    "1. Write a function called `has_duplicates` that takes a list and returns `True` if there is any element that appears more than once. It should not modify the original list.\n",
    "2. If there are 23 students in your class, what are the chances that two of you have the same birthday? You can estimate this probability by generating random samples of 23 birthdays and checking for matches. Hint: you can generate random birthdays with the randint function in the [random module](https://docs.python.org/2/library/random.html).\n",
    "\n",
    "You can read about this problem at http://en.wikipedia.org/wiki/Birthday_paradox, and you can download Allen's solution from http://thinkpython.com/code/birthday.py."
   ]
  },
  {
   "cell_type": "code",
   "execution_count": 38,
   "metadata": {
    "collapsed": false
   },
   "outputs": [
    {
     "name": "stdout",
     "output_type": "stream",
     "text": [
      "Oh. No matching birthdays.\n",
      "Oh. No matching birthdays.\n",
      "Oh. No matching birthdays.\n",
      "Wow! You have the same birthday as me!\n",
      "Wow! You have the same birthday as me!\n",
      "Wow! You have the same birthday as me!\n",
      "Oh. No matching birthdays.\n",
      "Wow! You have the same birthday as me!\n",
      "Wow! You have the same birthday as me!\n",
      "Wow! You have the same birthday as me!\n",
      "Oh. No matching birthdays.\n",
      "Oh. No matching birthdays.\n",
      "Oh. No matching birthdays.\n",
      "Oh. No matching birthdays.\n",
      "Oh. No matching birthdays.\n",
      "Oh. No matching birthdays.\n",
      "Wow! You have the same birthday as me!\n",
      "Oh. No matching birthdays.\n",
      "Wow! You have the same birthday as me!\n",
      "Oh. No matching birthdays.\n",
      "Wow! You have the same birthday as me!\n",
      "Wow! You have the same birthday as me!\n",
      "Wow! You have the same birthday as me!\n",
      "Wow! You have the same birthday as me!\n",
      "Oh. No matching birthdays.\n",
      "Wow! You have the same birthday as me!\n",
      "Wow! You have the same birthday as me!\n",
      "Oh. No matching birthdays.\n",
      "Wow! You have the same birthday as me!\n",
      "Wow! You have the same birthday as me!\n",
      "Oh. No matching birthdays.\n",
      "Wow! You have the same birthday as me!\n",
      "Wow! You have the same birthday as me!\n",
      "Wow! You have the same birthday as me!\n",
      "Wow! You have the same birthday as me!\n",
      "Oh. No matching birthdays.\n",
      "Oh. No matching birthdays.\n",
      "Wow! You have the same birthday as me!\n",
      "Wow! You have the same birthday as me!\n",
      "Wow! You have the same birthday as me!\n",
      "Wow! You have the same birthday as me!\n",
      "Wow! You have the same birthday as me!\n",
      "Oh. No matching birthdays.\n",
      "Oh. No matching birthdays.\n",
      "Wow! You have the same birthday as me!\n",
      "Oh. No matching birthdays.\n",
      "Oh. No matching birthdays.\n",
      "Wow! You have the same birthday as me!\n",
      "Oh. No matching birthdays.\n",
      "Wow! You have the same birthday as me!\n",
      "Oh. No matching birthdays.\n",
      "Wow! You have the same birthday as me!\n",
      "Wow! You have the same birthday as me!\n",
      "Oh. No matching birthdays.\n",
      "Wow! You have the same birthday as me!\n",
      "Wow! You have the same birthday as me!\n",
      "Oh. No matching birthdays.\n",
      "Oh. No matching birthdays.\n",
      "Wow! You have the same birthday as me!\n",
      "Wow! You have the same birthday as me!\n",
      "Wow! You have the same birthday as me!\n",
      "Oh. No matching birthdays.\n",
      "Wow! You have the same birthday as me!\n",
      "Oh. No matching birthdays.\n",
      "Oh. No matching birthdays.\n",
      "Oh. No matching birthdays.\n",
      "Wow! You have the same birthday as me!\n",
      "Oh. No matching birthdays.\n",
      "Oh. No matching birthdays.\n",
      "Oh. No matching birthdays.\n",
      "Oh. No matching birthdays.\n",
      "Oh. No matching birthdays.\n",
      "Oh. No matching birthdays.\n",
      "Oh. No matching birthdays.\n",
      "Oh. No matching birthdays.\n",
      "Wow! You have the same birthday as me!\n",
      "Oh. No matching birthdays.\n",
      "Oh. No matching birthdays.\n",
      "Wow! You have the same birthday as me!\n",
      "Oh. No matching birthdays.\n",
      "Wow! You have the same birthday as me!\n",
      "Oh. No matching birthdays.\n",
      "Oh. No matching birthdays.\n",
      "Oh. No matching birthdays.\n",
      "Oh. No matching birthdays.\n",
      "Wow! You have the same birthday as me!\n",
      "Wow! You have the same birthday as me!\n",
      "Wow! You have the same birthday as me!\n",
      "Oh. No matching birthdays.\n",
      "Wow! You have the same birthday as me!\n",
      "Wow! You have the same birthday as me!\n",
      "Wow! You have the same birthday as me!\n",
      "Wow! You have the same birthday as me!\n",
      "Wow! You have the same birthday as me!\n",
      "Oh. No matching birthdays.\n",
      "Oh. No matching birthdays.\n",
      "Wow! You have the same birthday as me!\n",
      "Wow! You have the same birthday as me!\n",
      "Oh. No matching birthdays.\n",
      "Oh. No matching birthdays.\n"
     ]
    }
   ],
   "source": [
    "def has_duplicates(birthdays):\n",
    "    \"\"\"\n",
    "    >>> has_duplicates([1,2,3,3,4])\n",
    "    True\n",
    "    >>> has_duplicates([\"one\",\"two\",\"banana\"])\n",
    "    False\n",
    "    \"\"\"\n",
    "    for i in range(0,len(birthdays)):\n",
    "        for j in range(0,i):\n",
    "            if birthdays[i] == birthdays[j]:\n",
    "                return True\n",
    "    return False\n",
    "\n",
    "\n",
    "import doctest\n",
    "import random\n",
    "doctest.run_docstring_examples(has_duplicates,globals())\n",
    "\n",
    "for i in range(100):\n",
    "    randList = [random.randint(0,365) for i in range(23)]\n",
    "    if has_duplicates(randList):\n",
    "        print \"Wow! You have the same birthday as me!\"\n",
    "    else:\n",
    "        print \"Oh. No matching birthdays.\""
   ]
  },
  {
   "cell_type": "markdown",
   "metadata": {},
   "source": [
    "### Challenge: Exercise 11 (optional)\n",
    "\n",
    "You should read [Chapter 9.1](http://www.greenteapress.com/thinkpython/html/thinkpython010.html) and do Exercise 1 first.\n",
    "\n",
    "To check whether a word is in the word list, you could use the `in` operator, but it would be relatively slow because it searches through the words in order (try it).\n",
    "\n",
    "Because the words are in alphabetical order, we can speed things up with a bisection search (also known as binary search), which is similar to what you do when you look a word up in the dictionary. You start in the middle and check to see whether the word you are looking for comes before the word in the middle of the list. If so, then you search the first half of the list the same way. Otherwise you search the second half.\n",
    "\n",
    "Either way, you cut the remaining search space in half. If the word list has 113,809 words, it will take about 17 steps to find the word or conclude that it’s not there.\n",
    "\n",
    "Write a function called `bisect` that takes a sorted list and a target value and returns the index of the value in the list, if it’s there, or `None` if it’s not.\n",
    "\n",
    "Or you could read the documentation of the `bisect` module and use that! Solution: http://thinkpython.com/code/inlist.py."
   ]
  },
  {
   "cell_type": "code",
   "execution_count": null,
   "metadata": {
    "collapsed": true
   },
   "outputs": [],
   "source": [
    "def bisect(allTheThings,target):\n",
    "    \"\"\"\n",
    "    >>> bisect([\"apple\",\"banana\",\"orange\",\"plum\"],\"banana\")\n",
    "    1\n",
    "    >>> bisect([\"apple\",\"banana\",\"orange\",\"plum\"],\"orange\")\n",
    "    1\n",
    "    >>> bisect([\"apple\",\"banana\",\"orange\",\"plum\"],\"peach\")\n",
    "    None\n",
    "    \"\"\"\n",
    "    i = len(allTheThings)/2\n",
    "    min = 0\n",
    "    max = len(allTheThings)\n",
    "    while min < max:\n",
    "        if allTheThings[i] < target:\n",
    "            min = i\n",
    "            i = (max+i)/2\n",
    "        elif allTheThings[i] > target:\n",
    "            max = i\n",
    "            i = (min+i)/2\n",
    "        else: # you have found it!\n",
    "            return i\n",
    "\n",
    "\n",
    "import doctest\n",
    "doctest.run_docstring_examples(bisect,globals())"
   ]
  },
  {
   "cell_type": "code",
   "execution_count": 42,
   "metadata": {
    "collapsed": false
   },
   "outputs": [
    {
     "name": "stdout",
     "output_type": "stream",
     "text": [
      "True\n",
      "False\n"
     ]
    }
   ],
   "source": [
    "print \"aaa\" < \"aab\"\n",
    "print \"aba\" < \"aab\""
   ]
  },
  {
   "cell_type": "markdown",
   "metadata": {},
   "source": [
    "## Reading Journal feedback\n",
    "\n",
    "Have any comments on this Reading Journal? Feel free to leave them below and we'll read them when you submit your journal entry. This could include suggestions to improve the exercises, topics you'd like to see covered in class next time, or other feedback.\n",
    "\n",
    "If you have Python questions or run into problems while completing the reading, you should post them to Piazza instead so you can get a quick response before your journal is submitted."
   ]
  },
  {
   "cell_type": "markdown",
   "metadata": {},
   "source": [
    " "
   ]
  }
 ],
 "metadata": {
  "kernelspec": {
   "display_name": "Python 2",
   "language": "python",
   "name": "python2"
  },
  "language_info": {
   "codemirror_mode": {
    "name": "ipython",
    "version": 2
   },
   "file_extension": ".py",
   "mimetype": "text/x-python",
   "name": "python",
   "nbconvert_exporter": "python",
   "pygments_lexer": "ipython2",
   "version": "2.7.6"
  }
 },
 "nbformat": 4,
 "nbformat_minor": 0
}
