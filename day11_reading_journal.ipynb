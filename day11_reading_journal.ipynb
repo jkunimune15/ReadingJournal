{
 "cells": [
  {
   "cell_type": "markdown",
   "metadata": {},
   "source": [
    "# Day 11 Reading Journal\n",
    "\n",
    "This journal includes several required exercises, but it is meant to encourage active reading more generally.  You should use the journal to take detailed notes, catalog questions, and explore the content from Think Python deeply.\n",
    "\n",
    "Reading: Review Think Python Chapters 15-17\n",
    "\n",
    "**Due: Monday, February 29 at 12 noon**\n",
    "\n"
   ]
  },
  {
   "cell_type": "markdown",
   "metadata": {},
   "source": [
    "## [Chapter 15](http://www.greenteapress.com/thinkpython/html/thinkpython016.html), [Chapter 16](http://www.greenteapress.com/thinkpython/html/thinkpython017.html), [Chapter 17](http://www.greenteapress.com/thinkpython/html/thinkpython018.html)\n",
    "\n",
    "\n",
    "By the end of chapter 17, we have all the tools we need to create our own user-defined types known as classes. In this reading journal, we're asking you to review and solidify your understanding of this material so we can build on it for the rest of the course. \n",
    "\n",
    "If you didn't get a chance to fully complete the Day 10 reading journal, you may want to do so now."
   ]
  },
  {
   "cell_type": "markdown",
   "metadata": {
    "problem": "Terminology"
   },
   "source": [
    "### Terminology\n",
    "\n",
    "You should be familiar with the following list of terms and concepts. If any of them are unclear to you, re-read, ask, write a definition in your own words, and try an example if appropriate.\n",
    "\n",
    " - class\n",
    " - object\n",
    " - instance\n",
    " - attribute\n",
    " - method\n",
    " - shallow vs deep copying\n",
    " - pure functions vs modifiers\n",
    " - initializing object instances\n",
    " "
   ]
  },
  {
   "cell_type": "markdown",
   "metadata": {
    "is_question": true,
    "problem": "Exercise 1"
   },
   "source": [
    "### Exercise\n",
    "\n",
    "We're going to take the first steps toward writing a calendar application. To keep things simple, we'll restrict ourselves to a single day for now. Write an `Event` class with the following attributes:\n",
    "\n",
    " - `name`  : Title for the `Event`\n",
    " - `start` : `Time` object representing the start time for the `Event`\n",
    " - `end`   : `Time` object representing the end time for the `Event`\n",
    "\n",
    "You can also augment your `Event` class with additional attributes, such as location and attendees.\n",
    "\n",
    "Write `__init__` and `__str__` methods for your `Event` class."
   ]
  },
  {
   "cell_type": "code",
   "execution_count": 20,
   "metadata": {
    "collapsed": true
   },
   "outputs": [],
   "source": [
    "class Time:\n",
    "    def __init__(me, h,m,s):\n",
    "        me.hour = h\n",
    "        me.minute = m\n",
    "        me.second = s\n",
    "    \n",
    "    def __str__(me):\n",
    "        return \"{}:{}:{}\".format(me.hour, me.minute, me.second)\n",
    "    \n",
    "    def __lt__(this, that):\n",
    "        return this.hour*3600+this.minute*60+this.second < that.hour*3600+that.minute*60+that.second\n",
    "    \n",
    "    def __gt__(this, that):\n",
    "        return this.hour*3600+this.minute*60+this.second > that.hour*3600+that.minute*60+that.second"
   ]
  },
  {
   "cell_type": "code",
   "execution_count": 7,
   "metadata": {
    "collapsed": false,
    "solution": "Exercise 1"
   },
   "outputs": [
    {
     "name": "stdout",
     "output_type": "stream",
     "text": [
      "SoftDes from 15:20:0 to 17:0:0\n"
     ]
    }
   ],
   "source": [
    "class Event:\n",
    "    def __init__(me, name, start, end):\n",
    "        me.name = name\n",
    "        me.start = start\n",
    "        me.end = end\n",
    "    \n",
    "    def __str__(me):\n",
    "        return \"{} from {} to {}\".format(me.name, me.start, me.end)\n",
    "\n",
    "\n",
    "print Event(\"SoftDes\",Time(15,20,0),Time(17,0,0))"
   ]
  },
  {
   "cell_type": "markdown",
   "metadata": {
    "is_question": true,
    "problem": "Exercise 2"
   },
   "source": [
    "### Exercise\n",
    "\n",
    "Write a `duration` method that returns the duration of the `Event` in minutes."
   ]
  },
  {
   "cell_type": "code",
   "execution_count": 8,
   "metadata": {
    "collapsed": false,
    "solution": "Exercise 2"
   },
   "outputs": [
    {
     "name": "stdout",
     "output_type": "stream",
     "text": [
      "100.0\n"
     ]
    }
   ],
   "source": [
    "class Event:\n",
    "    def __init__(me, name, start, end):\n",
    "        me.name = name\n",
    "        me.start = start\n",
    "        me.end = end\n",
    "    \n",
    "    def __str__(me):\n",
    "        return \"{} from {} to {}\".format(me.name, me.start, me.end)\n",
    "    \n",
    "    def duration(me):\n",
    "        st = me.start\n",
    "        nd = me.end\n",
    "        return (nd.hour-st.hour)*60 + (nd.minute-st.minute) + (nd.second-st.second)/60.0\n",
    "    \n",
    "\n",
    "print Event(\"SoftDes\",Time(15,20,0),Time(17,0,0)).duration()"
   ]
  },
  {
   "cell_type": "markdown",
   "metadata": {
    "is_question": true,
    "problem": "Exercise 3"
   },
   "source": [
    "### Exercise\n",
    "\n",
    "Write an `Agenda` class that contains several `Event`s for the day.\n",
    "\n",
    "**Quick check: ** How should you store `Event`s within your `Agenda` class?\n",
    "\n",
    "Your `Agenda` class should include a `print_agenda` method that prints out your schedule for the day, in order.\n",
    "\n",
    "**Optional:** Include a `is_feasible` method that returns `True` if your schedule has no time conflicts. You may want to write additional helper methods for the `Event` class to make this easier."
   ]
  },
  {
   "cell_type": "code",
   "execution_count": 21,
   "metadata": {
    "collapsed": false,
    "solution": "Exercise 3"
   },
   "outputs": [
    {
     "name": "stdout",
     "output_type": "stream",
     "text": [
      "Do ReadingJournal from 14:55:0 to 15:19:59\n",
      "P&M Meeting from 15:0:0 to 16:0:0\n",
      "SoftDes from 15:20:0 to 17:0:0\n",
      "\n",
      "False\n"
     ]
    }
   ],
   "source": [
    "class Event:\n",
    "    def __init__(me, name, start, end):\n",
    "        me.name = name\n",
    "        if end > start:\n",
    "            me.start = start\n",
    "            me.end = end\n",
    "        else:\n",
    "            me.start = end\n",
    "            me.end = start\n",
    "    \n",
    "    def __str__(me):\n",
    "        return \"{} from {} to {}\".format(me.name, me.start, me.end)\n",
    "    \n",
    "    def duration(me):\n",
    "        st = me.start\n",
    "        nd = me.end\n",
    "        return (nd.hour-st.hour)*60 + (nd.minute-st.minute) + (nd.second-st.second)/60.0\n",
    "    \n",
    "    def conflicts_with(this, that):\n",
    "        return this.start < that.end and that.start < this.end\n",
    "    \n",
    "    def __lt__(this,that):\n",
    "        return this.start < that.start\n",
    "    \n",
    "    def __gt__(this,that):\n",
    "        return this.start > that.start\n",
    "    \n",
    "    \n",
    "class Agenda:\n",
    "    def __init__(me, events=None):\n",
    "        if events == None:\n",
    "            me.events = []\n",
    "        else:\n",
    "            me.events = events\n",
    "            me.sort()\n",
    "    \n",
    "    def __str__(me):\n",
    "        if len(me) > 0:\n",
    "            output = \"\"\n",
    "            for e in me.events:\n",
    "                output = output + str(e) + \"\\n\"\n",
    "            return output\n",
    "        else:\n",
    "            return \"There is nothing on your agenda.\"\n",
    "    \n",
    "    def __len__(me):\n",
    "        return len(me.events)\n",
    "    \n",
    "    def sort(me):\n",
    "        for i in range(0,len(me)):\n",
    "            for j in range(0,i):\n",
    "                if me.events[i] < me.events[j]:\n",
    "                    temp = me.events[i]\n",
    "                    me.events[i] = me.events[j]\n",
    "                    me.events[j] = temp\n",
    "                    break\n",
    "    \n",
    "    def print_agenda(me):\n",
    "        print me\n",
    "    \n",
    "    def is_feasible(me):\n",
    "        for i in range(0,len(me)):\n",
    "            for j in range(0,i):\n",
    "                if me.events[i].conflicts_with(me.events[j]):\n",
    "                    return False\n",
    "        return True\n",
    "    \n",
    "\n",
    "monday = Agenda([Event(\"SoftDes\",Time(15,20,0),Time(17,0,0)), Event(\"Do ReadingJournal\",Time(14,55,0),Time(15,19,59)), Event(\"P&M Meeting\",Time(15,0,0),Time(16,0,0))])\n",
    "monday.print_agenda()\n",
    "print monday.is_feasible()"
   ]
  },
  {
   "cell_type": "markdown",
   "metadata": {
    "is_question": true,
    "problem": "Exercise 4"
   },
   "source": [
    "### Going Beyond (optional)\n",
    "\n",
    "Some ideas for taking your application further:\n",
    " - Add people and/or places to the mix to create a scheduling assistant\n",
    " - Extend support for day-of-week or full date. A word of warning: dealing with dates and times in real applications is difficult due to the huge number of special cases (Perfect example: this reading journal is due on Leap Day). Consider using something like the Python [datetime](https://docs.python.org/2/library/datetime.html) module.\n",
    " - Use pickle or some other persistence strategy to save and load your `Agenda`."
   ]
  },
  {
   "cell_type": "code",
   "execution_count": 22,
   "metadata": {
    "collapsed": false,
    "solution": "Exercise 4"
   },
   "outputs": [
    {
     "name": "stdout",
     "output_type": "stream",
     "text": [
      "Do ReadingJournal from 14:55:0 to 15:19:59\n",
      "P&M Meeting from 15:0:0 to 16:0:0\n",
      "SoftDes from 15:20:0 to 17:0:0 with ['Paul', 'Ben', 'Oliver']\n",
      "\n",
      "False\n"
     ]
    }
   ],
   "source": [
    "class Time:\n",
    "    def __init__(me, h,m,s):\n",
    "        me.hour = h\n",
    "        me.minute = m\n",
    "        me.second = s\n",
    "    \n",
    "    def __str__(me):\n",
    "        return \"{}:{}:{}\".format(me.hour, me.minute, me.second)\n",
    "    \n",
    "    def __lt__(this, that):\n",
    "        return this.hour*3600+this.minute*60+this.second < that.hour*3600+that.minute*60+that.second\n",
    "    \n",
    "    def __gt__(this, that):\n",
    "        return this.hour*3600+this.minute*60+this.second > that.hour*3600+that.minute*60+that.second\n",
    "\n",
    "    \n",
    "class Event:\n",
    "    def __init__(me, name, start, end, people=None):\n",
    "        me.name = name\n",
    "        if end > start:\n",
    "            me.start = start\n",
    "            me.end = end\n",
    "        else:\n",
    "            me.start = end\n",
    "            me.end = start\n",
    "        if people == None:\n",
    "            me.people = []\n",
    "        else:\n",
    "            me.people = people\n",
    "            \n",
    "    \n",
    "    def __str__(me):\n",
    "        if len(me.people) <= 0:\n",
    "            return \"{} from {} to {}\".format(me.name, me.start, me.end)\n",
    "        else:\n",
    "            return \"{} from {} to {} with {}\".format(me.name, me.start, me.end, me.people)\n",
    "    \n",
    "    def duration(me):\n",
    "        st = me.start\n",
    "        nd = me.end\n",
    "        return (nd.hour-st.hour)*60 + (nd.minute-st.minute) + (nd.second-st.second)/60.0\n",
    "    \n",
    "    def conflicts_with(this, that):\n",
    "        return this.start < that.end and that.start < this.end\n",
    "    \n",
    "    def __lt__(this,that):\n",
    "        return this.start < that.start\n",
    "    \n",
    "    def __gt__(this,that):\n",
    "        return this.start > that.start\n",
    "    \n",
    "    \n",
    "class Agenda:\n",
    "    def __init__(me, events=None):\n",
    "        if events == None:\n",
    "            me.events = []\n",
    "        else:\n",
    "            me.events = events\n",
    "            me.sort()\n",
    "    \n",
    "    def __str__(me):\n",
    "        if len(me) > 0:\n",
    "            output = \"\"\n",
    "            for e in me.events:\n",
    "                output = output + str(e) + \"\\n\"\n",
    "            return output\n",
    "        else:\n",
    "            return \"There is nothing on your agenda.\"\n",
    "    \n",
    "    def __len__(me):\n",
    "        return len(me.events)\n",
    "    \n",
    "    def sort(me):\n",
    "        for i in range(0,len(me)):\n",
    "            for j in range(0,i):\n",
    "                if me.events[i] < me.events[j]:\n",
    "                    temp = me.events[i]\n",
    "                    me.events[i] = me.events[j]\n",
    "                    me.events[j] = temp\n",
    "                    break\n",
    "    \n",
    "    def print_agenda(me):\n",
    "        print me\n",
    "    \n",
    "    def is_feasible(me):\n",
    "        for i in range(0,len(me)):\n",
    "            for j in range(0,i):\n",
    "                if me.events[i].conflicts_with(me.events[j]):\n",
    "                    return False\n",
    "        return True\n",
    "    \n",
    "\n",
    "monday = Agenda([Event(\"SoftDes\",Time(15,20,0),Time(17,0,0),[\"Paul\",\"Ben\",\"Oliver\"]), Event(\"Do ReadingJournal\",Time(14,55,0),Time(15,19,59)), Event(\"P&M Meeting\",Time(15,0,0),Time(16,0,0))])\n",
    "monday.print_agenda()\n",
    "print monday.is_feasible()"
   ]
  },
  {
   "cell_type": "markdown",
   "metadata": {
    "is_poll": true,
    "is_question": true,
    "problem": "Time spent"
   },
   "source": [
    "## Quick poll\n",
    "About how long did you spend working on this Reading Journal?"
   ]
  },
  {
   "cell_type": "markdown",
   "metadata": {
    "poll_response": true,
    "solution": "Time spent"
   },
   "source": [
    "40 minutes "
   ]
  },
  {
   "cell_type": "markdown",
   "metadata": {
    "is_question": true,
    "problem": "Feedback"
   },
   "source": [
    "## Reading Journal feedback\n",
    "\n",
    "Have any comments on this Reading Journal? Feel free to leave them below and we'll read them when you submit your journal entry. This could include suggestions to improve the exercises, topics you'd like to see covered in class next time, or other feedback.\n",
    "\n",
    "If you have Python questions or run into problems while completing the reading, you should post them to Piazza instead so you can get a quick response before your journal is submitted."
   ]
  },
  {
   "cell_type": "markdown",
   "metadata": {
    "feedback_response": true,
    "solution": "Feedback"
   },
   "source": [
    " "
   ]
  }
 ],
 "metadata": {
  "celltoolbar": "Edit Metadata",
  "kernelspec": {
   "display_name": "Python 2",
   "language": "python",
   "name": "python2"
  },
  "language_info": {
   "codemirror_mode": {
    "name": "ipython",
    "version": 2
   },
   "file_extension": ".py",
   "mimetype": "text/x-python",
   "name": "python",
   "nbconvert_exporter": "python",
   "pygments_lexer": "ipython2",
   "version": "2.7.6"
  }
 },
 "nbformat": 4,
 "nbformat_minor": 0
}
